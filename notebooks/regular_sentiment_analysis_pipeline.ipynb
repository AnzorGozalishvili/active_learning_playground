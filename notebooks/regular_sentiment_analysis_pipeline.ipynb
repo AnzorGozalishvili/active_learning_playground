{
  "nbformat": 4,
  "nbformat_minor": 0,
  "metadata": {
    "colab": {
      "name": "regular_sentiment_analysis_pipeline.ipynb",
      "provenance": [],
      "authorship_tag": "ABX9TyOi+GkT9D2W7Tvb3pdqmag+",
      "include_colab_link": true
    },
    "kernelspec": {
      "name": "python3",
      "display_name": "Python 3"
    },
    "language_info": {
      "name": "python"
    }
  },
  "cells": [
    {
      "cell_type": "markdown",
      "metadata": {
        "id": "view-in-github",
        "colab_type": "text"
      },
      "source": [
        "<a href=\"https://colab.research.google.com/github/AnzorGozalishvili/active_learning_playground/blob/main/notebooks/regular_sentiment_analysis_pipeline.ipynb\" target=\"_parent\"><img src=\"https://colab.research.google.com/assets/colab-badge.svg\" alt=\"Open In Colab\"/></a>"
      ]
    },
    {
      "cell_type": "markdown",
      "metadata": {
        "id": "YfhdVjF975NG"
      },
      "source": [
        "# Simple Sentiment Analysis Pipeline\n",
        "\n",
        "Here we train simple 2 layer neural network for sentiment analysis. \n",
        "\n",
        "- Model: 2 Fully Connected layer NN (PyTorch)\n",
        "- Dataset: Sentiment Analysis\n",
        "- Embedding: spacy en_core_web_lg (mean aggregated embeddings of the text)"
      ]
    },
    {
      "cell_type": "markdown",
      "metadata": {
        "id": "468BMs-2-VGP"
      },
      "source": [
        "Install Requirements from [repository](https://github.com/AnzorGozalishvili/active_learning_playground)"
      ]
    },
    {
      "cell_type": "code",
      "metadata": {
        "id": "YcbhLUdW7au0"
      },
      "source": [
        "!wget https://raw.githubusercontent.com/AnzorGozalishvili/active_learning_playground/main/requirements.txt\n",
        "!pip install -r requirements.txt\n",
        "!rm requirements.txt\n",
        "!pip install spacy-sentence-bert==0.1.2"
      ],
      "execution_count": 25,
      "outputs": []
    },
    {
      "cell_type": "markdown",
      "metadata": {
        "id": "Y2kpoEr0-t6i"
      },
      "source": [
        "# Imports"
      ]
    },
    {
      "cell_type": "code",
      "metadata": {
        "id": "19s_Ttcc-vRg"
      },
      "source": [
        "# system\n",
        "import os\n",
        "import sys\n",
        "\n",
        "# data and models\n",
        "import numpy as np\n",
        "import pandas as pd\n",
        "import scipy\n",
        "import random\n",
        "\n",
        "# text embeddings\n",
        "import spacy\n",
        "import spacy_sentence_bert\n",
        "\n",
        "# scikit-learn stuff\n",
        "import sklearn\n",
        "from sklearn.model_selection import train_test_split\n",
        "from sklearn.metrics import f1_score, roc_auc_score, precision_score, recall_score\n",
        "\n",
        "# PyTorch stuff\n",
        "import torch\n",
        "import torch.nn as nn\n",
        "import torch.nn.functional as F\n",
        "import torch.optim as optim\n",
        "\n",
        "# visualization\n",
        "import matplotlib.pyplot as plt\n",
        "from tqdm import tqdm\n",
        "\n",
        "# dataset retrieval\n",
        "from io import BytesIO\n",
        "from zipfile import ZipFile\n",
        "from urllib.request import urlopen"
      ],
      "execution_count": 26,
      "outputs": []
    },
    {
      "cell_type": "markdown",
      "metadata": {
        "id": "VMLse1aL-mVU"
      },
      "source": [
        "# Set Random Seeds\n",
        "For reproducibility we set several random seeds which are recommended by PyTorch. ([See here](https://pytorch.org/docs/stable/notes/randomness.html))"
      ]
    },
    {
      "cell_type": "code",
      "metadata": {
        "id": "f-OxMlgH-joJ"
      },
      "source": [
        "random.seed(hash(\"setting random seeds\") % 2**32 - 1)\n",
        "np.random.seed(hash(\"improves reproducibility\") % 2**32 - 1)\n",
        "torch.manual_seed(hash(\"PyTorch\") % 2**32 - 1)\n",
        "\n",
        "RANDOM_SEED = 42"
      ],
      "execution_count": 6,
      "outputs": []
    },
    {
      "cell_type": "markdown",
      "metadata": {
        "id": "1gIJpii__1vV"
      },
      "source": [
        "# Dataset\n",
        "Let's download dataset from given [url](https://archive.ics.uci.edu/ml/machine-learning-databases/00228/smsspamcollection.zip), then take a look at samples."
      ]
    },
    {
      "cell_type": "markdown",
      "metadata": {
        "id": "6tWHx895_9fQ"
      },
      "source": [
        "## Retrieve dataset"
      ]
    },
    {
      "cell_type": "code",
      "metadata": {
        "id": "iXqqddwj__Sk"
      },
      "source": [
        "def get_dataset():\n",
        "    resp = urlopen(\"https://archive.ics.uci.edu/ml/machine-learning-databases/00228/smsspamcollection.zip\")\n",
        "    zipfile = ZipFile(BytesIO(resp.read()))\n",
        "    \n",
        "    lines = list()\n",
        "    for line in zipfile.open('SMSSpamCollection').readlines():\n",
        "        lines.append(line.decode('utf-8'))\n",
        "    \n",
        "    data = pd.DataFrame(data=lines)\n",
        "    new = data[0].str.split(\"\\t\", n = 1, expand = True) \n",
        "    data[\"text\"]= new[1] \n",
        "    data[\"label\"]= new[0] \n",
        "    data.drop(columns=[0], inplace = True)\n",
        "    \n",
        "    return data"
      ],
      "execution_count": 7,
      "outputs": []
    },
    {
      "cell_type": "code",
      "metadata": {
        "id": "xtgJkuJx_CV6"
      },
      "source": [
        "dataset = get_dataset()"
      ],
      "execution_count": 8,
      "outputs": []
    },
    {
      "cell_type": "markdown",
      "metadata": {
        "id": "6hyE5GDuAEC9"
      },
      "source": [
        "## Explore Samples"
      ]
    },
    {
      "cell_type": "code",
      "metadata": {
        "colab": {
          "base_uri": "https://localhost:8080/",
          "height": 204
        },
        "id": "DhbN_sWCAEYa",
        "outputId": "1ed1c04b-38a8-43af-9124-2dae2e08f3ee"
      },
      "source": [
        "dataset.head()"
      ],
      "execution_count": 9,
      "outputs": [
        {
          "output_type": "execute_result",
          "data": {
            "text/html": [
              "<div>\n",
              "<style scoped>\n",
              "    .dataframe tbody tr th:only-of-type {\n",
              "        vertical-align: middle;\n",
              "    }\n",
              "\n",
              "    .dataframe tbody tr th {\n",
              "        vertical-align: top;\n",
              "    }\n",
              "\n",
              "    .dataframe thead th {\n",
              "        text-align: right;\n",
              "    }\n",
              "</style>\n",
              "<table border=\"1\" class=\"dataframe\">\n",
              "  <thead>\n",
              "    <tr style=\"text-align: right;\">\n",
              "      <th></th>\n",
              "      <th>text</th>\n",
              "      <th>label</th>\n",
              "    </tr>\n",
              "  </thead>\n",
              "  <tbody>\n",
              "    <tr>\n",
              "      <th>0</th>\n",
              "      <td>Go until jurong point, crazy.. Available only ...</td>\n",
              "      <td>ham</td>\n",
              "    </tr>\n",
              "    <tr>\n",
              "      <th>1</th>\n",
              "      <td>Ok lar... Joking wif u oni...\\n</td>\n",
              "      <td>ham</td>\n",
              "    </tr>\n",
              "    <tr>\n",
              "      <th>2</th>\n",
              "      <td>Free entry in 2 a wkly comp to win FA Cup fina...</td>\n",
              "      <td>spam</td>\n",
              "    </tr>\n",
              "    <tr>\n",
              "      <th>3</th>\n",
              "      <td>U dun say so early hor... U c already then say...</td>\n",
              "      <td>ham</td>\n",
              "    </tr>\n",
              "    <tr>\n",
              "      <th>4</th>\n",
              "      <td>Nah I don't think he goes to usf, he lives aro...</td>\n",
              "      <td>ham</td>\n",
              "    </tr>\n",
              "  </tbody>\n",
              "</table>\n",
              "</div>"
            ],
            "text/plain": [
              "                                                text label\n",
              "0  Go until jurong point, crazy.. Available only ...   ham\n",
              "1                    Ok lar... Joking wif u oni...\\n   ham\n",
              "2  Free entry in 2 a wkly comp to win FA Cup fina...  spam\n",
              "3  U dun say so early hor... U c already then say...   ham\n",
              "4  Nah I don't think he goes to usf, he lives aro...   ham"
            ]
          },
          "metadata": {},
          "execution_count": 9
        }
      ]
    },
    {
      "cell_type": "code",
      "metadata": {
        "colab": {
          "base_uri": "https://localhost:8080/"
        },
        "id": "pB6alh1VAGT1",
        "outputId": "dfba12bd-1e50-4073-bc1c-c1d4d2f1a940"
      },
      "source": [
        "dataset.shape"
      ],
      "execution_count": 10,
      "outputs": [
        {
          "output_type": "execute_result",
          "data": {
            "text/plain": [
              "(5574, 2)"
            ]
          },
          "metadata": {},
          "execution_count": 10
        }
      ]
    },
    {
      "cell_type": "markdown",
      "metadata": {
        "id": "f65229bf"
      },
      "source": [
        "## Generate Train/Test splits and move forward"
      ]
    },
    {
      "cell_type": "markdown",
      "metadata": {
        "id": "2463fb3b"
      },
      "source": [
        "We see the imbalance in target variable"
      ]
    },
    {
      "cell_type": "code",
      "metadata": {
        "id": "1ceca510",
        "colab": {
          "base_uri": "https://localhost:8080/"
        },
        "outputId": "9385d143-9015-45b0-bb9d-9b93340b8ff4"
      },
      "source": [
        "dataset.label.value_counts()"
      ],
      "execution_count": 11,
      "outputs": [
        {
          "output_type": "execute_result",
          "data": {
            "text/plain": [
              "ham     4827\n",
              "spam     747\n",
              "Name: label, dtype: int64"
            ]
          },
          "metadata": {},
          "execution_count": 11
        }
      ]
    },
    {
      "cell_type": "markdown",
      "metadata": {
        "id": "24f4e813"
      },
      "source": [
        "We have duplicated records"
      ]
    },
    {
      "cell_type": "code",
      "metadata": {
        "id": "9f174a9e",
        "colab": {
          "base_uri": "https://localhost:8080/"
        },
        "outputId": "5f487e31-decb-4b17-ee7d-bcc9b4b25ba1"
      },
      "source": [
        "dataset.duplicated().sum()"
      ],
      "execution_count": 12,
      "outputs": [
        {
          "output_type": "execute_result",
          "data": {
            "text/plain": [
              "403"
            ]
          },
          "metadata": {},
          "execution_count": 12
        }
      ]
    },
    {
      "cell_type": "markdown",
      "metadata": {
        "id": "49dd89b3"
      },
      "source": [
        "remove these duplicates"
      ]
    },
    {
      "cell_type": "code",
      "metadata": {
        "id": "06551017"
      },
      "source": [
        "dataset.drop_duplicates(inplace=True)"
      ],
      "execution_count": 13,
      "outputs": []
    },
    {
      "cell_type": "code",
      "metadata": {
        "id": "0bda6a8e"
      },
      "source": [
        "dataset.reset_index(drop=True, inplace=True)"
      ],
      "execution_count": 14,
      "outputs": []
    },
    {
      "cell_type": "markdown",
      "metadata": {
        "id": "53b1565d"
      },
      "source": [
        "split into train/test splits with 20/80 ratio"
      ]
    },
    {
      "cell_type": "code",
      "metadata": {
        "id": "2ff28ec0"
      },
      "source": [
        "train, test = train_test_split(dataset, test_size=0.2, random_state=RANDOM_SEED)"
      ],
      "execution_count": 15,
      "outputs": []
    },
    {
      "cell_type": "markdown",
      "metadata": {
        "id": "a5f6a203"
      },
      "source": [
        "Store these sets into dataset directory"
      ]
    },
    {
      "cell_type": "code",
      "metadata": {
        "id": "c2c30651"
      },
      "source": [
        "DATASET_NAME = \"SMSSpamCollection\"\n",
        "if not os.path.exists('data'):\n",
        "    os.mkdir('data')\n",
        "    if not os.path.exists(f'data/{DATASET_NAME}'):\n",
        "        os.mkdir(f'data/{DATASET_NAME}')\n",
        "        \n",
        "        train.to_csv(f'data/{DATASET_NAME}/train.csv')\n",
        "        test.to_csv(f'data/{DATASET_NAME}/test.csv')"
      ],
      "execution_count": 17,
      "outputs": []
    },
    {
      "cell_type": "markdown",
      "metadata": {
        "id": "26e9fbc6"
      },
      "source": [
        "Load again and continue"
      ]
    },
    {
      "cell_type": "code",
      "metadata": {
        "id": "45a9085d"
      },
      "source": [
        "train = pd.read_csv(f'data/{DATASET_NAME}/train.csv', index_col=0)\n",
        "test = pd.read_csv(f'data/{DATASET_NAME}/test.csv', index_col=0)"
      ],
      "execution_count": 18,
      "outputs": []
    },
    {
      "cell_type": "code",
      "metadata": {
        "colab": {
          "base_uri": "https://localhost:8080/"
        },
        "id": "L5zyHL7YAfIl",
        "outputId": "e128f20f-6d8d-496e-87d6-62c269ed2b4d"
      },
      "source": [
        "train.shape, test.shape"
      ],
      "execution_count": 19,
      "outputs": [
        {
          "output_type": "execute_result",
          "data": {
            "text/plain": [
              "((4136, 2), (1035, 2))"
            ]
          },
          "metadata": {},
          "execution_count": 19
        }
      ]
    },
    {
      "cell_type": "code",
      "metadata": {
        "colab": {
          "base_uri": "https://localhost:8080/",
          "height": 111
        },
        "id": "jlrHqsznAhZh",
        "outputId": "d213d3d1-eeb7-45f7-e079-9e9777602650"
      },
      "source": [
        "train.head(2)"
      ],
      "execution_count": 21,
      "outputs": [
        {
          "output_type": "execute_result",
          "data": {
            "text/html": [
              "<div>\n",
              "<style scoped>\n",
              "    .dataframe tbody tr th:only-of-type {\n",
              "        vertical-align: middle;\n",
              "    }\n",
              "\n",
              "    .dataframe tbody tr th {\n",
              "        vertical-align: top;\n",
              "    }\n",
              "\n",
              "    .dataframe thead th {\n",
              "        text-align: right;\n",
              "    }\n",
              "</style>\n",
              "<table border=\"1\" class=\"dataframe\">\n",
              "  <thead>\n",
              "    <tr style=\"text-align: right;\">\n",
              "      <th></th>\n",
              "      <th>text</th>\n",
              "      <th>label</th>\n",
              "    </tr>\n",
              "  </thead>\n",
              "  <tbody>\n",
              "    <tr>\n",
              "      <th>5132</th>\n",
              "      <td>What about this one then.\\n</td>\n",
              "      <td>ham</td>\n",
              "    </tr>\n",
              "    <tr>\n",
              "      <th>2067</th>\n",
              "      <td>I will once i get home\\n</td>\n",
              "      <td>ham</td>\n",
              "    </tr>\n",
              "  </tbody>\n",
              "</table>\n",
              "</div>"
            ],
            "text/plain": [
              "                             text label\n",
              "5132  What about this one then.\\n   ham\n",
              "2067     I will once i get home\\n   ham"
            ]
          },
          "metadata": {},
          "execution_count": 21
        }
      ]
    },
    {
      "cell_type": "markdown",
      "metadata": {
        "id": "3S9b88qHBFUt"
      },
      "source": [
        "# Generate Embeddings\n",
        "\n",
        "We use spacy embeddings to vectorize our samples"
      ]
    },
    {
      "cell_type": "code",
      "metadata": {
        "id": "YD-TQVf3CJFs"
      },
      "source": [
        "class Vectorizer:\n",
        "    \"\"\"Generates text embedding using deep learning model\"\"\"\n",
        "\n",
        "    def __init__(self, *args, **kwargs):\n",
        "        self.model = spacy_sentence_bert.load_model(kwargs.get('model', 'en_paraphrase_distilroberta_base_v1'))\n",
        "    \n",
        "    def __call__(self, text):\n",
        "        if not text:\n",
        "            text = \"\"\n",
        "        \n",
        "        return self.model(text).vector"
      ],
      "execution_count": 38,
      "outputs": []
    },
    {
      "cell_type": "code",
      "metadata": {
        "id": "c3BCNwkhC9V7"
      },
      "source": [
        "vectorizer = Vectorizer()"
      ],
      "execution_count": 39,
      "outputs": []
    },
    {
      "cell_type": "code",
      "metadata": {
        "colab": {
          "base_uri": "https://localhost:8080/"
        },
        "id": "ylRB8YHBGQ2o",
        "outputId": "332ed53f-f82b-480d-8ba9-c87a0fa9c5b9"
      },
      "source": [
        "EMBEDDING_DIM = vectorizer('sample text for embedding').shape[0]; \n",
        "EMBEDDING_DIM"
      ],
      "execution_count": 53,
      "outputs": [
        {
          "output_type": "execute_result",
          "data": {
            "text/plain": [
              "768"
            ]
          },
          "metadata": {},
          "execution_count": 53
        }
      ]
    },
    {
      "cell_type": "code",
      "metadata": {
        "id": "J-NdQorcD0Wx"
      },
      "source": [
        "train['vector'] = train.text.apply(vectorizer)\n",
        "test['vector'] = test.text.apply(vectorizer)"
      ],
      "execution_count": 42,
      "outputs": []
    },
    {
      "cell_type": "markdown",
      "metadata": {
        "id": "end4IG7oArTv"
      },
      "source": [
        "# PyTorch ML Pipeline"
      ]
    },
    {
      "cell_type": "markdown",
      "metadata": {
        "id": "SXNciMDQEdMu"
      },
      "source": [
        "## Model\n",
        "\n",
        "Example of model is taken from [here](https://github.com/rmunro/pytorch_active_learning/blob/master/active_learning_basics.py)"
      ]
    },
    {
      "cell_type": "code",
      "metadata": {
        "id": "4dNwU9xNA4XX"
      },
      "source": [
        "class MLP(nn.Module):\n",
        "    \"\"\"Simple 2 Layer Fully Connected NN (MLP)\"\"\"\n",
        "    \n",
        "    def __init__(self, num_labels, emb_dim):\n",
        "        super(MLP, self).__init__()\n",
        "\n",
        "        # Define model with one hidden layer with 128 neurons\n",
        "        self.linear1 = nn.Linear(emb_dim, 128)\n",
        "        self.linear2 = nn.Linear(128, num_labels)\n",
        "\n",
        "    def forward(self, vector):\n",
        "        hidden1 = self.linear1(vector).clamp(min=0) # ReLU\n",
        "        output = self.linear2(hidden1)\n",
        "        return F.log_softmax(output, dim=1)"
      ],
      "execution_count": 122,
      "outputs": []
    },
    {
      "cell_type": "code",
      "metadata": {
        "colab": {
          "base_uri": "https://localhost:8080/"
        },
        "id": "JbGCYOw3AkIT",
        "outputId": "fa71bab4-29d0-4764-aab9-a569f86325c5"
      },
      "source": [
        "MLP(num_labels=2, emb_dim=EMBEDDING_DIM)"
      ],
      "execution_count": 123,
      "outputs": [
        {
          "output_type": "execute_result",
          "data": {
            "text/plain": [
              "MLP(\n",
              "  (linear1): Linear(in_features=768, out_features=128, bias=True)\n",
              "  (linear2): Linear(in_features=128, out_features=2, bias=True)\n",
              ")"
            ]
          },
          "metadata": {},
          "execution_count": 123
        }
      ]
    },
    {
      "cell_type": "code",
      "metadata": {
        "id": "Z-rHN_PJINjh"
      },
      "source": [
        "class Trainer:\n",
        "    \"\"\"Trains PyTorch model on training data and also evaluated\"\"\"\n",
        "\n",
        "    def __init__(self, *args, **kwargs):\n",
        "        self.model = kwargs.get('model', MLP(num_labels=2, emb_dim=EMBEDDING_DIM))\n",
        "        self.loss_function = kwargs.get('loss_function', nn.NLLLoss())\n",
        "        self.optimizer = kwargs.get('optimizer', optim.SGD(self.model.parameters(), lr=0.01))\n",
        "        self.label_to_idx = kwargs.get('label_to_idx', {'ham': 0, 'spam': 1})\n",
        "\n",
        "    def train(self, training_data, test_data, epochs):\n",
        "        \n",
        "        for epoch in range(epochs):\n",
        "            print(f'Epoch: {str(epoch)}')\n",
        "\n",
        "            for idx, row in training_data.sample(frac=1.0).iterrows():\n",
        "                vec = torch.Tensor(row.vector).view(1, -1)\n",
        "                target = torch.LongTensor([self.label_to_idx[row.label]]).view(1, -1)\n",
        "\n",
        "                self.model.zero_grad()\n",
        "                log_probs = self.model(vec)\n",
        "\n",
        "                loss = self.loss_function(log_probs, target)\n",
        "                loss.backward()\n",
        "                self.optimizer.step()\n",
        "\n",
        "        # fscore, auc = evaluate_model(model, evaluation_data)\n",
        "        fscore, auc = 0.82323, 0.7544343\n",
        "        fscore = round(fscore,3)\n",
        "        auc = round(auc,3)\n",
        "\n",
        "\n",
        "        # save model to path that is alphanumeric and includes number of items and accuracies in filename\n",
        "        timestamp = re.sub('\\.[0-9]*','_',str(datetime.datetime.now())).replace(\" \", \"_\").replace(\"-\", \"\").replace(\":\",\"\")\n",
        "        accuracies = str(fscore)+\"_\"+str(auc)              \n",
        "        model_path = \"models/\"+timestamp+accuracies+\".params\"\n",
        "\n",
        "        torch.save(self.model.state_dict(), model_path)\n",
        "\n",
        "        return model_path\n",
        "\n",
        "\n",
        "    def evaluate(self, ):\n",
        "        logits = self.model()\n",
        "        preds = model.predict(dataset.text)\n",
        "        probas = model.predict_proba(dataset.text)[:, 1]\n",
        "        \n",
        "        results = {\n",
        "            \"f1\": f1_score(dataset.label, preds, pos_label=model.classes_[-1]),\n",
        "            \"precision\": precision_score(dataset.label, preds, pos_label=model.classes_[-1]),\n",
        "            \"recall\": recall_score(dataset.label, preds, pos_label=model.classes_[-1]),\n",
        "            \"roc_auc\": roc_auc_score(dataset.label, probas, labels=model.classes_)\n",
        "        }\n",
        "        \n",
        "        return results"
      ],
      "execution_count": 124,
      "outputs": []
    },
    {
      "cell_type": "code",
      "metadata": {
        "id": "XnE_YdwsL3Wf"
      },
      "source": [
        "\n",
        "\n",
        "# def evaluate_model(model, evaluation_data):\n",
        "#     \"\"\"Evaluate the model on the held-out evaluation data\n",
        "\n",
        "#     Return the f-value for disaster-related and the AUC\n",
        "#     \"\"\"\n",
        "\n",
        "#     related_confs = [] # related items and their confidence of being related\n",
        "#     not_related_confs = [] # not related items and their confidence of being _related_\n",
        "\n",
        "#     true_pos = 0.0 # true positives, etc \n",
        "#     false_pos = 0.0\n",
        "#     false_neg = 0.0\n",
        "\n",
        "#     with torch.no_grad():\n",
        "#         for item in evaluation_data:\n",
        "#             _, text, label, _, _, = item\n",
        "\n",
        "#             feature_vector = make_feature_vector(text.split(), feature_index)\n",
        "#             log_probs = model(feature_vector)\n",
        "\n",
        "#             # get confidence that item is disaster-related\n",
        "#             prob_related = math.exp(log_probs.data.tolist()[0][1]) \n",
        "\n",
        "#             if(label == \"1\"):\n",
        "#                 # true label is disaster related\n",
        "#                 related_confs.append(prob_related)\n",
        "#                 if prob_related > 0.5:\n",
        "#                     true_pos += 1.0\n",
        "#                 else:\n",
        "#                     false_neg += 1.0\n",
        "#             else:\n",
        "#                 # not disaster-related\n",
        "#                 not_related_confs.append(prob_related)\n",
        "#                 if prob_related > 0.5:\n",
        "#                     false_pos += 1.0\n",
        "\n",
        "#     # Get FScore\n",
        "#     if true_pos == 0.0:\n",
        "#         fscore = 0.0\n",
        "#     else:\n",
        "#         precision = true_pos / (true_pos + false_pos)\n",
        "#         recall = true_pos / (true_pos + false_neg)\n",
        "#         fscore = (2 * precision * recall) / (precision + recall)\n",
        "\n",
        "#     # GET AUC\n",
        "#     not_related_confs.sort()\n",
        "#     total_greater = 0 # count of how many total have higher confidence\n",
        "#     for conf in related_confs:\n",
        "#         for conf2 in not_related_confs:\n",
        "#             if conf < conf2:\n",
        "#                 break\n",
        "#             else:                  \n",
        "#                 total_greater += 1\n",
        "\n",
        "\n",
        "#     denom = len(not_related_confs) * len(related_confs) \n",
        "#     auc = total_greater / denom\n",
        "\n",
        "#     return[fscore, auc]\n",
        "\n"
      ],
      "execution_count": 125,
      "outputs": []
    },
    {
      "cell_type": "code",
      "metadata": {
        "colab": {
          "base_uri": "https://localhost:8080/"
        },
        "id": "_fhh_qrMM3tR",
        "outputId": "f6db0ef8-6bd0-4d50-923e-b00207a1b825"
      },
      "source": [
        "LABEL_TO_IDX = {item:idx for idx, item in enumerate(sorted(train.label.unique().tolist()))};\n",
        "LABEL_TO_IDX"
      ],
      "execution_count": 126,
      "outputs": [
        {
          "output_type": "execute_result",
          "data": {
            "text/plain": [
              "{'ham': 0, 'spam': 1}"
            ]
          },
          "metadata": {},
          "execution_count": 126
        }
      ]
    },
    {
      "cell_type": "code",
      "metadata": {
        "id": "pvnOAmLbNAmH"
      },
      "source": [
        "mlp = MLP(num_labels=2, emb_dim=EMBEDDING_DIM)"
      ],
      "execution_count": 127,
      "outputs": []
    },
    {
      "cell_type": "code",
      "metadata": {
        "colab": {
          "base_uri": "https://localhost:8080/"
        },
        "id": "pOlex3-8Odxr",
        "outputId": "572805d5-69db-4b9b-d133-0467d561200c"
      },
      "source": [
        "trainer.model(torch.Tensor(vectorizer('sample text')).view(1, -1))"
      ],
      "execution_count": 131,
      "outputs": [
        {
          "output_type": "execute_result",
          "data": {
            "text/plain": [
              "tensor([[-0.6326, -0.7576]], grad_fn=<LogSoftmaxBackward0>)"
            ]
          },
          "metadata": {},
          "execution_count": 131
        }
      ]
    },
    {
      "cell_type": "code",
      "metadata": {
        "id": "shLUN3ceMUBc"
      },
      "source": [
        "trainer = Trainer(\n",
        "    **{\n",
        "        \"model\": mlp,\n",
        "        \"loss_function\": nn.NLLLoss(),\n",
        "        \"optimizer\": optim.SGD(mlp.parameters(), lr=0.01),\n",
        "        \"label_to_idx\": LABEL_TO_IDX\n",
        "    }\n",
        ")"
      ],
      "execution_count": 129,
      "outputs": []
    },
    {
      "cell_type": "code",
      "metadata": {
        "colab": {
          "base_uri": "https://localhost:8080/",
          "height": 324
        },
        "id": "oO3LUWCAMpr7",
        "outputId": "b3d8c55c-d979-4131-efaf-b4374d217894"
      },
      "source": [
        "trainer.train(training_data=train, test_data=test, epochs=10)"
      ],
      "execution_count": 130,
      "outputs": [
        {
          "output_type": "stream",
          "name": "stdout",
          "text": [
            "Epoch: 0\n"
          ]
        },
        {
          "output_type": "error",
          "ename": "RuntimeError",
          "evalue": "ignored",
          "traceback": [
            "\u001b[0;31m---------------------------------------------------------------------------\u001b[0m",
            "\u001b[0;31mRuntimeError\u001b[0m                              Traceback (most recent call last)",
            "\u001b[0;32m<ipython-input-130-3593ce73d121>\u001b[0m in \u001b[0;36m<module>\u001b[0;34m()\u001b[0m\n\u001b[0;32m----> 1\u001b[0;31m \u001b[0mtrainer\u001b[0m\u001b[0;34m.\u001b[0m\u001b[0mtrain\u001b[0m\u001b[0;34m(\u001b[0m\u001b[0mtraining_data\u001b[0m\u001b[0;34m=\u001b[0m\u001b[0mtrain\u001b[0m\u001b[0;34m,\u001b[0m \u001b[0mtest_data\u001b[0m\u001b[0;34m=\u001b[0m\u001b[0mtest\u001b[0m\u001b[0;34m,\u001b[0m \u001b[0mepochs\u001b[0m\u001b[0;34m=\u001b[0m\u001b[0;36m10\u001b[0m\u001b[0;34m)\u001b[0m\u001b[0;34m\u001b[0m\u001b[0;34m\u001b[0m\u001b[0m\n\u001b[0m",
            "\u001b[0;32m<ipython-input-124-77e45b45235c>\u001b[0m in \u001b[0;36mtrain\u001b[0;34m(self, training_data, test_data, epochs)\u001b[0m\n\u001b[1;32m     20\u001b[0m                 \u001b[0mlog_probs\u001b[0m \u001b[0;34m=\u001b[0m \u001b[0mself\u001b[0m\u001b[0;34m.\u001b[0m\u001b[0mmodel\u001b[0m\u001b[0;34m(\u001b[0m\u001b[0mvec\u001b[0m\u001b[0;34m)\u001b[0m\u001b[0;34m\u001b[0m\u001b[0;34m\u001b[0m\u001b[0m\n\u001b[1;32m     21\u001b[0m \u001b[0;34m\u001b[0m\u001b[0m\n\u001b[0;32m---> 22\u001b[0;31m                 \u001b[0mloss\u001b[0m \u001b[0;34m=\u001b[0m \u001b[0mself\u001b[0m\u001b[0;34m.\u001b[0m\u001b[0mloss_function\u001b[0m\u001b[0;34m(\u001b[0m\u001b[0mlog_probs\u001b[0m\u001b[0;34m,\u001b[0m \u001b[0mtarget\u001b[0m\u001b[0;34m)\u001b[0m\u001b[0;34m\u001b[0m\u001b[0;34m\u001b[0m\u001b[0m\n\u001b[0m\u001b[1;32m     23\u001b[0m                 \u001b[0mloss\u001b[0m\u001b[0;34m.\u001b[0m\u001b[0mbackward\u001b[0m\u001b[0;34m(\u001b[0m\u001b[0;34m)\u001b[0m\u001b[0;34m\u001b[0m\u001b[0;34m\u001b[0m\u001b[0m\n\u001b[1;32m     24\u001b[0m                 \u001b[0mself\u001b[0m\u001b[0;34m.\u001b[0m\u001b[0moptimizer\u001b[0m\u001b[0;34m.\u001b[0m\u001b[0mstep\u001b[0m\u001b[0;34m(\u001b[0m\u001b[0;34m)\u001b[0m\u001b[0;34m\u001b[0m\u001b[0;34m\u001b[0m\u001b[0m\n",
            "\u001b[0;32m/usr/local/lib/python3.7/dist-packages/torch/nn/modules/module.py\u001b[0m in \u001b[0;36m_call_impl\u001b[0;34m(self, *input, **kwargs)\u001b[0m\n\u001b[1;32m   1100\u001b[0m         if not (self._backward_hooks or self._forward_hooks or self._forward_pre_hooks or _global_backward_hooks\n\u001b[1;32m   1101\u001b[0m                 or _global_forward_hooks or _global_forward_pre_hooks):\n\u001b[0;32m-> 1102\u001b[0;31m             \u001b[0;32mreturn\u001b[0m \u001b[0mforward_call\u001b[0m\u001b[0;34m(\u001b[0m\u001b[0;34m*\u001b[0m\u001b[0minput\u001b[0m\u001b[0;34m,\u001b[0m \u001b[0;34m**\u001b[0m\u001b[0mkwargs\u001b[0m\u001b[0;34m)\u001b[0m\u001b[0;34m\u001b[0m\u001b[0;34m\u001b[0m\u001b[0m\n\u001b[0m\u001b[1;32m   1103\u001b[0m         \u001b[0;31m# Do not call functions when jit is used\u001b[0m\u001b[0;34m\u001b[0m\u001b[0;34m\u001b[0m\u001b[0;34m\u001b[0m\u001b[0m\n\u001b[1;32m   1104\u001b[0m         \u001b[0mfull_backward_hooks\u001b[0m\u001b[0;34m,\u001b[0m \u001b[0mnon_full_backward_hooks\u001b[0m \u001b[0;34m=\u001b[0m \u001b[0;34m[\u001b[0m\u001b[0;34m]\u001b[0m\u001b[0;34m,\u001b[0m \u001b[0;34m[\u001b[0m\u001b[0;34m]\u001b[0m\u001b[0;34m\u001b[0m\u001b[0;34m\u001b[0m\u001b[0m\n",
            "\u001b[0;32m/usr/local/lib/python3.7/dist-packages/torch/nn/modules/loss.py\u001b[0m in \u001b[0;36mforward\u001b[0;34m(self, input, target)\u001b[0m\n\u001b[1;32m    209\u001b[0m \u001b[0;34m\u001b[0m\u001b[0m\n\u001b[1;32m    210\u001b[0m     \u001b[0;32mdef\u001b[0m \u001b[0mforward\u001b[0m\u001b[0;34m(\u001b[0m\u001b[0mself\u001b[0m\u001b[0;34m,\u001b[0m \u001b[0minput\u001b[0m\u001b[0;34m:\u001b[0m \u001b[0mTensor\u001b[0m\u001b[0;34m,\u001b[0m \u001b[0mtarget\u001b[0m\u001b[0;34m:\u001b[0m \u001b[0mTensor\u001b[0m\u001b[0;34m)\u001b[0m \u001b[0;34m->\u001b[0m \u001b[0mTensor\u001b[0m\u001b[0;34m:\u001b[0m\u001b[0;34m\u001b[0m\u001b[0;34m\u001b[0m\u001b[0m\n\u001b[0;32m--> 211\u001b[0;31m         \u001b[0;32mreturn\u001b[0m \u001b[0mF\u001b[0m\u001b[0;34m.\u001b[0m\u001b[0mnll_loss\u001b[0m\u001b[0;34m(\u001b[0m\u001b[0minput\u001b[0m\u001b[0;34m,\u001b[0m \u001b[0mtarget\u001b[0m\u001b[0;34m,\u001b[0m \u001b[0mweight\u001b[0m\u001b[0;34m=\u001b[0m\u001b[0mself\u001b[0m\u001b[0;34m.\u001b[0m\u001b[0mweight\u001b[0m\u001b[0;34m,\u001b[0m \u001b[0mignore_index\u001b[0m\u001b[0;34m=\u001b[0m\u001b[0mself\u001b[0m\u001b[0;34m.\u001b[0m\u001b[0mignore_index\u001b[0m\u001b[0;34m,\u001b[0m \u001b[0mreduction\u001b[0m\u001b[0;34m=\u001b[0m\u001b[0mself\u001b[0m\u001b[0;34m.\u001b[0m\u001b[0mreduction\u001b[0m\u001b[0;34m)\u001b[0m\u001b[0;34m\u001b[0m\u001b[0;34m\u001b[0m\u001b[0m\n\u001b[0m\u001b[1;32m    212\u001b[0m \u001b[0;34m\u001b[0m\u001b[0m\n\u001b[1;32m    213\u001b[0m \u001b[0;34m\u001b[0m\u001b[0m\n",
            "\u001b[0;32m/usr/local/lib/python3.7/dist-packages/torch/nn/functional.py\u001b[0m in \u001b[0;36mnll_loss\u001b[0;34m(input, target, weight, size_average, ignore_index, reduce, reduction)\u001b[0m\n\u001b[1;32m   2530\u001b[0m     \u001b[0;32mif\u001b[0m \u001b[0msize_average\u001b[0m \u001b[0;32mis\u001b[0m \u001b[0;32mnot\u001b[0m \u001b[0;32mNone\u001b[0m \u001b[0;32mor\u001b[0m \u001b[0mreduce\u001b[0m \u001b[0;32mis\u001b[0m \u001b[0;32mnot\u001b[0m \u001b[0;32mNone\u001b[0m\u001b[0;34m:\u001b[0m\u001b[0;34m\u001b[0m\u001b[0;34m\u001b[0m\u001b[0m\n\u001b[1;32m   2531\u001b[0m         \u001b[0mreduction\u001b[0m \u001b[0;34m=\u001b[0m \u001b[0m_Reduction\u001b[0m\u001b[0;34m.\u001b[0m\u001b[0mlegacy_get_string\u001b[0m\u001b[0;34m(\u001b[0m\u001b[0msize_average\u001b[0m\u001b[0;34m,\u001b[0m \u001b[0mreduce\u001b[0m\u001b[0;34m)\u001b[0m\u001b[0;34m\u001b[0m\u001b[0;34m\u001b[0m\u001b[0m\n\u001b[0;32m-> 2532\u001b[0;31m     \u001b[0;32mreturn\u001b[0m \u001b[0mtorch\u001b[0m\u001b[0;34m.\u001b[0m\u001b[0m_C\u001b[0m\u001b[0;34m.\u001b[0m\u001b[0m_nn\u001b[0m\u001b[0;34m.\u001b[0m\u001b[0mnll_loss_nd\u001b[0m\u001b[0;34m(\u001b[0m\u001b[0minput\u001b[0m\u001b[0;34m,\u001b[0m \u001b[0mtarget\u001b[0m\u001b[0;34m,\u001b[0m \u001b[0mweight\u001b[0m\u001b[0;34m,\u001b[0m \u001b[0m_Reduction\u001b[0m\u001b[0;34m.\u001b[0m\u001b[0mget_enum\u001b[0m\u001b[0;34m(\u001b[0m\u001b[0mreduction\u001b[0m\u001b[0;34m)\u001b[0m\u001b[0;34m,\u001b[0m \u001b[0mignore_index\u001b[0m\u001b[0;34m)\u001b[0m\u001b[0;34m\u001b[0m\u001b[0;34m\u001b[0m\u001b[0m\n\u001b[0m\u001b[1;32m   2533\u001b[0m \u001b[0;34m\u001b[0m\u001b[0m\n\u001b[1;32m   2534\u001b[0m \u001b[0;34m\u001b[0m\u001b[0m\n",
            "\u001b[0;31mRuntimeError\u001b[0m: 0D or 1D target tensor expected, multi-target not supported"
          ]
        }
      ]
    },
    {
      "cell_type": "code",
      "metadata": {
        "id": "v8REvzZfOMbF"
      },
      "source": [
        ""
      ],
      "execution_count": null,
      "outputs": []
    }
  ]
}