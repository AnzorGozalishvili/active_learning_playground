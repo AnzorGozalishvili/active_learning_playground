{
 "cells": [
  {
   "cell_type": "markdown",
   "id": "8f4b898b",
   "metadata": {},
   "source": [
    "# Introduction\n",
    "Our goal is to measure how much performance gain can be achieved using active learning approach for training simple scikit-learn pipeline in terms of labeling costs and final evaluation metrics.\n",
    "We will build spam classifier using simple scikit-learn pipeline and compare active learning results with traditional ML approach.\n",
    "\n",
    "Dataset: https://archive.ics.uci.edu/ml/machine-learning-databases/00228/smsspamcollection.zip"
   ]
  },
  {
   "cell_type": "markdown",
   "id": "5289fdbe",
   "metadata": {},
   "source": [
    "# Imports"
   ]
  },
  {
   "cell_type": "code",
   "execution_count": 1,
   "id": "0721b3e4",
   "metadata": {},
   "outputs": [],
   "source": [
    "# system\n",
    "import os\n",
    "import sys\n",
    "\n",
    "# data and models\n",
    "import numpy as np\n",
    "import pandas as pd\n",
    "import scipy\n",
    "import random\n",
    "\n",
    "import sklearn\n",
    "from sklearn.model_selection import train_test_split\n",
    "from sklearn.linear_model import LogisticRegressionCV\n",
    "from sklearn.feature_extraction.text import TfidfVectorizer\n",
    "from sklearn.pipeline import Pipeline\n",
    "from sklearn.metrics import f1_score, roc_auc_score, precision_score, recall_score\n",
    "\n",
    "# visualization\n",
    "import matplotlib.pyplot as plt\n",
    "from tqdm import tqdm\n",
    "\n",
    "# dataset retrieval\n",
    "from io import BytesIO\n",
    "from zipfile import ZipFile\n",
    "from urllib.request import urlopen"
   ]
  },
  {
   "cell_type": "code",
   "execution_count": 2,
   "id": "4dbb7f71",
   "metadata": {},
   "outputs": [],
   "source": [
    "os.chdir('../')"
   ]
  },
  {
   "cell_type": "code",
   "execution_count": 3,
   "id": "35305c5d",
   "metadata": {},
   "outputs": [],
   "source": [
    "sys.path.append('.')"
   ]
  },
  {
   "cell_type": "code",
   "execution_count": 4,
   "id": "29b66783",
   "metadata": {},
   "outputs": [],
   "source": [
    "# Disable jedi autocompleter\n",
    "%config Completer.use_jedi = False"
   ]
  },
  {
   "cell_type": "markdown",
   "id": "ffa8e941",
   "metadata": {},
   "source": [
    "# Set random seeds"
   ]
  },
  {
   "cell_type": "code",
   "execution_count": 5,
   "id": "a9e6947f",
   "metadata": {},
   "outputs": [],
   "source": [
    "# Set the random seeds\n",
    "os.environ['TF_CUDNN_DETERMINISTIC'] = '1' \n",
    "random.seed(hash(\"setting random seeds\") % 2**32 - 1)\n",
    "np.random.seed(hash(\"improves reproducibility\") % 2**32 - 1)\n",
    "RANDOM_SEED = 42"
   ]
  },
  {
   "cell_type": "markdown",
   "id": "17d28bc9",
   "metadata": {},
   "source": [
    "# Dataset\n",
    "Let's download dataset from given [url](https://archive.ics.uci.edu/ml/machine-learning-databases/00228/smsspamcollection.zip), then take a look at samples."
   ]
  },
  {
   "cell_type": "markdown",
   "id": "4b90b867",
   "metadata": {},
   "source": [
    "## Retrieve dataset"
   ]
  },
  {
   "cell_type": "code",
   "execution_count": 6,
   "id": "1258dc6e",
   "metadata": {},
   "outputs": [],
   "source": [
    "def get_dataset():\n",
    "    resp = urlopen(\"https://archive.ics.uci.edu/ml/machine-learning-databases/00228/smsspamcollection.zip\")\n",
    "    zipfile = ZipFile(BytesIO(resp.read()))\n",
    "    \n",
    "    lines = list()\n",
    "    for line in zipfile.open('SMSSpamCollection').readlines():\n",
    "        lines.append(line.decode('utf-8'))\n",
    "    \n",
    "    data = pd.DataFrame(data=lines)\n",
    "    new = data[0].str.split(\"\\t\", n = 1, expand = True) \n",
    "    data[\"text\"]= new[1] \n",
    "    data[\"label\"]= new[0] \n",
    "    data.drop(columns=[0], inplace = True)\n",
    "    \n",
    "    return data"
   ]
  },
  {
   "cell_type": "code",
   "execution_count": 7,
   "id": "5449112f",
   "metadata": {},
   "outputs": [],
   "source": [
    "dataset = get_dataset()"
   ]
  },
  {
   "cell_type": "markdown",
   "id": "26c29625",
   "metadata": {},
   "source": [
    "## Explore Samples"
   ]
  },
  {
   "cell_type": "code",
   "execution_count": 8,
   "id": "526fbb1d",
   "metadata": {},
   "outputs": [
    {
     "data": {
      "text/html": [
       "<div>\n",
       "<style scoped>\n",
       "    .dataframe tbody tr th:only-of-type {\n",
       "        vertical-align: middle;\n",
       "    }\n",
       "\n",
       "    .dataframe tbody tr th {\n",
       "        vertical-align: top;\n",
       "    }\n",
       "\n",
       "    .dataframe thead th {\n",
       "        text-align: right;\n",
       "    }\n",
       "</style>\n",
       "<table border=\"1\" class=\"dataframe\">\n",
       "  <thead>\n",
       "    <tr style=\"text-align: right;\">\n",
       "      <th></th>\n",
       "      <th>text</th>\n",
       "      <th>label</th>\n",
       "    </tr>\n",
       "  </thead>\n",
       "  <tbody>\n",
       "    <tr>\n",
       "      <th>0</th>\n",
       "      <td>Go until jurong point, crazy.. Available only ...</td>\n",
       "      <td>ham</td>\n",
       "    </tr>\n",
       "    <tr>\n",
       "      <th>1</th>\n",
       "      <td>Ok lar... Joking wif u oni...\\n</td>\n",
       "      <td>ham</td>\n",
       "    </tr>\n",
       "    <tr>\n",
       "      <th>2</th>\n",
       "      <td>Free entry in 2 a wkly comp to win FA Cup fina...</td>\n",
       "      <td>spam</td>\n",
       "    </tr>\n",
       "    <tr>\n",
       "      <th>3</th>\n",
       "      <td>U dun say so early hor... U c already then say...</td>\n",
       "      <td>ham</td>\n",
       "    </tr>\n",
       "    <tr>\n",
       "      <th>4</th>\n",
       "      <td>Nah I don't think he goes to usf, he lives aro...</td>\n",
       "      <td>ham</td>\n",
       "    </tr>\n",
       "  </tbody>\n",
       "</table>\n",
       "</div>"
      ],
      "text/plain": [
       "                                                text label\n",
       "0  Go until jurong point, crazy.. Available only ...   ham\n",
       "1                    Ok lar... Joking wif u oni...\\n   ham\n",
       "2  Free entry in 2 a wkly comp to win FA Cup fina...  spam\n",
       "3  U dun say so early hor... U c already then say...   ham\n",
       "4  Nah I don't think he goes to usf, he lives aro...   ham"
      ]
     },
     "execution_count": 8,
     "metadata": {},
     "output_type": "execute_result"
    }
   ],
   "source": [
    "dataset.head()"
   ]
  },
  {
   "cell_type": "code",
   "execution_count": 9,
   "id": "827c1013",
   "metadata": {},
   "outputs": [
    {
     "data": {
      "text/plain": [
       "(5574, 2)"
      ]
     },
     "execution_count": 9,
     "metadata": {},
     "output_type": "execute_result"
    }
   ],
   "source": [
    "dataset.shape"
   ]
  },
  {
   "cell_type": "markdown",
   "id": "f65229bf",
   "metadata": {},
   "source": [
    "## Generate Train/Test splits and move forward"
   ]
  },
  {
   "cell_type": "markdown",
   "id": "2463fb3b",
   "metadata": {},
   "source": [
    "We see the imbalance in target variable"
   ]
  },
  {
   "cell_type": "code",
   "execution_count": 10,
   "id": "1ceca510",
   "metadata": {},
   "outputs": [
    {
     "data": {
      "text/plain": [
       "ham     4827\n",
       "spam     747\n",
       "Name: label, dtype: int64"
      ]
     },
     "execution_count": 10,
     "metadata": {},
     "output_type": "execute_result"
    }
   ],
   "source": [
    "dataset.label.value_counts()"
   ]
  },
  {
   "cell_type": "markdown",
   "id": "24f4e813",
   "metadata": {},
   "source": [
    "We have duplicated records"
   ]
  },
  {
   "cell_type": "code",
   "execution_count": 11,
   "id": "9f174a9e",
   "metadata": {},
   "outputs": [
    {
     "data": {
      "text/plain": [
       "403"
      ]
     },
     "execution_count": 11,
     "metadata": {},
     "output_type": "execute_result"
    }
   ],
   "source": [
    "dataset.duplicated().sum()"
   ]
  },
  {
   "cell_type": "markdown",
   "id": "49dd89b3",
   "metadata": {},
   "source": [
    "remove these duplicates"
   ]
  },
  {
   "cell_type": "code",
   "execution_count": 12,
   "id": "06551017",
   "metadata": {},
   "outputs": [],
   "source": [
    "dataset.drop_duplicates(inplace=True)"
   ]
  },
  {
   "cell_type": "code",
   "execution_count": 13,
   "id": "0bda6a8e",
   "metadata": {},
   "outputs": [],
   "source": [
    "dataset.reset_index(drop=True, inplace=True)"
   ]
  },
  {
   "cell_type": "markdown",
   "id": "53b1565d",
   "metadata": {},
   "source": [
    "split into train/test splits with 20/80 ratio"
   ]
  },
  {
   "cell_type": "code",
   "execution_count": 14,
   "id": "2ff28ec0",
   "metadata": {},
   "outputs": [],
   "source": [
    "train, test = train_test_split(dataset, test_size=0.2, random_state=RANDOM_SEED)"
   ]
  },
  {
   "cell_type": "markdown",
   "id": "a5f6a203",
   "metadata": {},
   "source": [
    "Store these sets into dataset directory"
   ]
  },
  {
   "cell_type": "code",
   "execution_count": 15,
   "id": "c2c30651",
   "metadata": {},
   "outputs": [],
   "source": [
    "DATASET_NAME = \"SMSSpamCollection\"\n",
    "if not os.path.exists(f'data/{DATASET_NAME}'):\n",
    "    os.mkdir(f'data/{DATASET_NAME}')\n",
    "    \n",
    "    train.to_csv(f'data/{DATASET_NAME}/train.csv')\n",
    "    test.to_csv(f'data/{DATASET_NAME}/test.csv')"
   ]
  },
  {
   "cell_type": "markdown",
   "id": "26e9fbc6",
   "metadata": {},
   "source": [
    "Load again and continue"
   ]
  },
  {
   "cell_type": "code",
   "execution_count": 16,
   "id": "45a9085d",
   "metadata": {},
   "outputs": [],
   "source": [
    "train = pd.read_csv(f'data/{DATASET_NAME}/train.csv', index_col=0)\n",
    "test = pd.read_csv(f'data/{DATASET_NAME}/test.csv', index_col=0)"
   ]
  },
  {
   "cell_type": "markdown",
   "id": "c7594341",
   "metadata": {},
   "source": [
    "# Traditional ML Pipeline"
   ]
  },
  {
   "cell_type": "markdown",
   "id": "e3c04497",
   "metadata": {},
   "source": [
    "Here we train traiditional ML pipeline on entire dataset and test on test set to get evaluation metrics"
   ]
  },
  {
   "cell_type": "code",
   "execution_count": 17,
   "id": "1070c6e3",
   "metadata": {},
   "outputs": [],
   "source": [
    "def evaluate(model, dataset):\n",
    "    preds = model.predict(dataset.text)\n",
    "    probas = model.predict_proba(dataset.text)[:, 1]\n",
    "    \n",
    "    results = {\n",
    "        \"f1\": f1_score(dataset.label, preds, pos_label=model.classes_[-1]),\n",
    "        \"precision\": precision_score(dataset.label, preds, pos_label=model.classes_[-1]),\n",
    "        \"recall\": recall_score(dataset.label, preds, pos_label=model.classes_[-1]),\n",
    "        \"roc_auc\": roc_auc_score(dataset.label, probas, labels=model.classes_)\n",
    "    }\n",
    "    \n",
    "    return results"
   ]
  },
  {
   "cell_type": "code",
   "execution_count": 18,
   "id": "713129fb",
   "metadata": {},
   "outputs": [],
   "source": [
    "traditional_classifier = Pipeline( \n",
    "    steps=[\n",
    "        (\"tfidf\", TfidfVectorizer()),\n",
    "        ('clf', LogisticRegressionCV(\n",
    "            cv=10,\n",
    "            penalty='l2',\n",
    "            scoring='f1',\n",
    "            n_jobs=-1,\n",
    "            refit=True,\n",
    "            random_state=RANDOM_SEED\n",
    "        )),\n",
    "    ])"
   ]
  },
  {
   "cell_type": "code",
   "execution_count": 19,
   "id": "7d86690a",
   "metadata": {},
   "outputs": [
    {
     "data": {
      "text/plain": [
       "Pipeline(steps=[('tfidf', TfidfVectorizer()),\n",
       "                ('clf',\n",
       "                 LogisticRegressionCV(cv=10, n_jobs=-1, random_state=42,\n",
       "                                      scoring='f1'))])"
      ]
     },
     "execution_count": 19,
     "metadata": {},
     "output_type": "execute_result"
    }
   ],
   "source": [
    "traditional_classifier.fit(train.text, train.label)"
   ]
  },
  {
   "cell_type": "code",
   "execution_count": 20,
   "id": "3b550ea0",
   "metadata": {},
   "outputs": [
    {
     "data": {
      "text/plain": [
       "{'f1': 0.9438202247191011,\n",
       " 'precision': 0.9692307692307692,\n",
       " 'recall': 0.9197080291970803,\n",
       " 'roc_auc': 0.9896932355762197}"
      ]
     },
     "execution_count": 20,
     "metadata": {},
     "output_type": "execute_result"
    }
   ],
   "source": [
    "evaluate(traditional_classifier, test)"
   ]
  },
  {
   "cell_type": "markdown",
   "id": "b7b8e65e",
   "metadata": {},
   "source": [
    "# Active Learning ML Pipeline"
   ]
  },
  {
   "cell_type": "markdown",
   "id": "ce34fa37",
   "metadata": {},
   "source": [
    "Now let's implement exactly the same ML pipeline using Active Learning with different approaches of data sampling"
   ]
  },
  {
   "cell_type": "code",
   "execution_count": 21,
   "id": "35aac439",
   "metadata": {},
   "outputs": [],
   "source": [
    "class Sampler:\n",
    "    def __init__(self):\n",
    "        pass\n",
    "    \n",
    "    def sample(self, *args, **kwargs):\n",
    "        pass"
   ]
  },
  {
   "cell_type": "code",
   "execution_count": 22,
   "id": "c864d845",
   "metadata": {},
   "outputs": [],
   "source": [
    "class RandomSampler(Sampler):\n",
    "    def sample(self, model, dataset, num_samples):\n",
    "        if num_samples < dataset.shape[0]:\n",
    "            return dataset.sample(n=num_samples)\n",
    "        else:\n",
    "            return dataset.sample(frac=1.0)"
   ]
  },
  {
   "cell_type": "code",
   "execution_count": 23,
   "id": "c8a99352",
   "metadata": {},
   "outputs": [],
   "source": [
    "class UncertaintySampler(Sampler):\n",
    "    def sample(self, model, dataset, num_samples):\n",
    "        probas = model.predict_proba(dataset.text)\n",
    "        uncertain_indices = np.argsort(np.abs(probas[:,0] - probas[:, 1]))[:num_samples]\n",
    "        \n",
    "        return dataset.iloc[uncertain_indices]"
   ]
  },
  {
   "cell_type": "code",
   "execution_count": 24,
   "id": "cd15e0fa",
   "metadata": {},
   "outputs": [],
   "source": [
    "class ActiveLearner:\n",
    "    def __init__(self, test, train, unlabeled, pipeline, batch_size=100, sampler=None):\n",
    "        self.test = test.copy(deep=True)\n",
    "        self.train = train.copy(deep=True)\n",
    "        self.unlabeled = unlabeled.copy(deep=True)\n",
    "        self.pipeline = pipeline\n",
    "        self.batch_size=batch_size\n",
    "        self.sampler=RandomSampler() if sampler is None else sampler\n",
    "        self.metrics = []\n",
    "        \n",
    "        \n",
    "        # train pipeline on available training set to have initially trained model\n",
    "        self.pipeline.fit(self.train.text, self.train.label)\n",
    "        self.metrics.append(evaluate(self.pipeline, self.test))\n",
    "        \n",
    "    def run_active_learning(self, iterations=100):\n",
    "        \n",
    "        # iteration loop\n",
    "        for it in tqdm(range(iterations), total=iterations, leave=True, desc='Iterations'):\n",
    "            \n",
    "            # sample from \"unlabeled\" dataset\n",
    "            sampled_dataset = self.sampler.sample(model=self.pipeline, dataset=self.unlabeled, num_samples=self.batch_size)\n",
    "            \n",
    "            # exclude sampled items from \"unlabeled\" dataset\n",
    "            self.unlabeled.drop(sampled_dataset.index, axis=0, inplace=True)\n",
    "            \n",
    "            # update train dataset\n",
    "            self.train = pd.concat([self.train, sampled_dataset], axis=0)\n",
    "            \n",
    "            # train pipeline on new train dataset\n",
    "            self.pipeline.fit(self.train.text, self.train.label)\n",
    "            self.metrics.append(evaluate(self.pipeline, self.test))"
   ]
  },
  {
   "cell_type": "markdown",
   "id": "4d4e689b",
   "metadata": {},
   "source": [
    "### Create Initial Train set"
   ]
  },
  {
   "cell_type": "code",
   "execution_count": 25,
   "id": "c6a822de",
   "metadata": {},
   "outputs": [],
   "source": [
    "initial_train = train.sample(frac=0.05)\n",
    "train.drop(initial_train.index, axis=0, inplace=True)"
   ]
  },
  {
   "cell_type": "code",
   "execution_count": 26,
   "id": "30e02bfe",
   "metadata": {
    "scrolled": true
   },
   "outputs": [
    {
     "name": "stdout",
     "output_type": "stream",
     "text": [
      "expected number of iterations (for batch_size=100) is 39\n"
     ]
    }
   ],
   "source": [
    "print(f\"expected number of iterations (for batch_size=100) is {train.shape[0] // 100}\")"
   ]
  },
  {
   "cell_type": "markdown",
   "id": "b5db60e5",
   "metadata": {},
   "source": [
    "### Random Sampler Active Learning Model"
   ]
  },
  {
   "cell_type": "code",
   "execution_count": 27,
   "id": "51922c00",
   "metadata": {},
   "outputs": [],
   "source": [
    "random_active_learner = ActiveLearner(\n",
    "    test=test,\n",
    "    train=initial_train,\n",
    "    unlabeled=train,\n",
    "    pipeline=Pipeline( \n",
    "        steps=[\n",
    "            (\"tfidf\", TfidfVectorizer()),\n",
    "            ('clf', LogisticRegressionCV(\n",
    "                cv=10,\n",
    "                penalty='l2',\n",
    "                scoring='f1',\n",
    "                n_jobs=-1,\n",
    "                refit=True,\n",
    "                random_state=RANDOM_SEED\n",
    "            )),\n",
    "        ]),\n",
    "    batch_size=100,\n",
    "    sampler=RandomSampler(),\n",
    ")"
   ]
  },
  {
   "cell_type": "code",
   "execution_count": 28,
   "id": "ff738baa",
   "metadata": {},
   "outputs": [
    {
     "name": "stderr",
     "output_type": "stream",
     "text": [
      "Iterations: 100%|█████████████████████████████████████████████████████████████████████████████████████████████████████████████████████████████████████████████████████████████████████████████████████████████| 39/39 [00:27<00:00,  1.40it/s]\n"
     ]
    }
   ],
   "source": [
    "random_active_learner.run_active_learning(iterations=39)"
   ]
  },
  {
   "cell_type": "code",
   "execution_count": 29,
   "id": "44fc24a0",
   "metadata": {},
   "outputs": [
    {
     "data": {
      "text/plain": [
       "[{'f1': 0.5876288659793815,\n",
       "  'precision': 1.0,\n",
       "  'recall': 0.41605839416058393,\n",
       "  'roc_auc': 0.9607278136328906},\n",
       " {'f1': 0.7373271889400921,\n",
       "  'precision': 1.0,\n",
       "  'recall': 0.583941605839416,\n",
       "  'roc_auc': 0.9701201372067693}]"
      ]
     },
     "execution_count": 29,
     "metadata": {},
     "output_type": "execute_result"
    }
   ],
   "source": [
    "random_active_learner.metrics[:2]"
   ]
  },
  {
   "cell_type": "markdown",
   "id": "8960089c",
   "metadata": {},
   "source": [
    "### Uncertainty Sampler Active Learning Model"
   ]
  },
  {
   "cell_type": "code",
   "execution_count": 30,
   "id": "70e4ede4",
   "metadata": {},
   "outputs": [],
   "source": [
    "uncertainty_active_learner = ActiveLearner(\n",
    "    test=test,\n",
    "    train=initial_train,\n",
    "    unlabeled=train,\n",
    "    pipeline=Pipeline( \n",
    "        steps=[\n",
    "            (\"tfidf\", TfidfVectorizer()),\n",
    "            ('clf', LogisticRegressionCV(\n",
    "                cv=10,\n",
    "                penalty='l2',\n",
    "                scoring='f1',\n",
    "                n_jobs=-1,\n",
    "                refit=True,\n",
    "                random_state=RANDOM_SEED\n",
    "            )),\n",
    "        ]),\n",
    "    batch_size=100,\n",
    "    sampler=UncertaintySampler(),\n",
    ")"
   ]
  },
  {
   "cell_type": "code",
   "execution_count": 31,
   "id": "99b85fea",
   "metadata": {},
   "outputs": [
    {
     "name": "stderr",
     "output_type": "stream",
     "text": [
      "Iterations: 100%|█████████████████████████████████████████████████████████████████████████████████████████████████████████████████████████████████████████████████████████████████████████████████████████████| 39/39 [00:31<00:00,  1.23it/s]\n"
     ]
    }
   ],
   "source": [
    "uncertainty_active_learner.run_active_learning(iterations=39)"
   ]
  },
  {
   "cell_type": "code",
   "execution_count": 32,
   "id": "1f558da1",
   "metadata": {},
   "outputs": [
    {
     "data": {
      "text/plain": [
       "[{'f1': 0.5876288659793815,\n",
       "  'precision': 1.0,\n",
       "  'recall': 0.41605839416058393,\n",
       "  'roc_auc': 0.9607278136328906},\n",
       " {'f1': 0.8947368421052632,\n",
       "  'precision': 0.9224806201550387,\n",
       "  'recall': 0.8686131386861314,\n",
       "  'roc_auc': 0.969388584526848}]"
      ]
     },
     "execution_count": 32,
     "metadata": {},
     "output_type": "execute_result"
    }
   ],
   "source": [
    "uncertainty_active_learner.metrics[:2]"
   ]
  },
  {
   "cell_type": "markdown",
   "id": "e5436517",
   "metadata": {},
   "source": [
    "# Compare Results"
   ]
  },
  {
   "cell_type": "code",
   "execution_count": 48,
   "id": "007db46a",
   "metadata": {},
   "outputs": [],
   "source": [
    "def compare_model_metrics(learners, thresholds):\n",
    "    # generate dataframes from each metrics and store learner names\n",
    "    metrics_dfs = []\n",
    "    learner_names = []\n",
    "    for learner in learners:\n",
    "        learner_names.append(learner.sampler.__class__.__name__)\n",
    "        metrics_dfs.append(pd.DataFrame(learner.metrics))\n",
    "        \n",
    "    # collect all unique metrics available from learners\n",
    "    unique_metrics = metrics_dfs[0].columns\n",
    "    \n",
    "    # create subplots\n",
    "    fig, axes = plt.subplots(\n",
    "        nrows=len(unique_metrics), \n",
    "        ncols=1,\n",
    "        figsize=(10, 10*len(unique_metrics)),\n",
    "        sharey=True\n",
    "    )\n",
    "    \n",
    "    # compare learners by each metric in separate plot\n",
    "    for ax, metric_name in zip(axes, unique_metrics):\n",
    "        comparison_df = pd.DataFrame(\n",
    "            {\n",
    "                learner_name: metrics_df[metric_name].values\n",
    "                for learner_name, metrics_df in zip(learner_names, metrics_dfs)\n",
    "            }\n",
    "        )\n",
    "        comparison_df.plot(kind='line', ax=ax)\n",
    "        ax.set_title(f\"Metric={metric_name}\")\n",
    "        \n",
    "        # plot horizontal threshold of \"traditional\" pipeline\n",
    "        ax.axhline(y=thresholds[metric_name], color='green', linestyle='-')"
   ]
  },
  {
   "cell_type": "code",
   "execution_count": 49,
   "id": "cfb9f516",
   "metadata": {
    "scrolled": false
   },
   "outputs": [
    {
     "data": {
      "image/png": "[encoded data removed]",
      "text/plain": [
       "<Figure size 720x2880 with 4 Axes>"
      ]
     },
     "metadata": {
      "needs_background": "light"
     },
     "output_type": "display_data"
    }
   ],
   "source": [
    "compare_model_metrics(\n",
    "    learners=[random_active_learner, uncertainty_active_learner], \n",
    "    thresholds=evaluate(model=traditional_classifier, dataset=test)\n",
    ")"
   ]
  },
  {
   "cell_type": "markdown",
   "id": "388b973f",
   "metadata": {},
   "source": [
    "# Conclusion"
   ]
  },
  {
   "cell_type": "markdown",
   "id": "59214df7",
   "metadata": {},
   "source": [
    "we see that the target metric optimization is achieved much faster with `Uncertainty Sampler`.\n",
    "It achieved higher performance than `traditional pipeline` in 3-4 iterations (with only 200 + 4*100 = 600 samples)  where `Random Sampler` achieved the same result in 23 iterations (with 200 + 23*100 = 2500 samples). The traditional pipeline used all 4136 samples.\n",
    "\n",
    "Shortly, `Uncertainty Sampler` achieved the same result in 4136 / 600 = 6.8933 times less data where `Random Sampler` did it in 4136 / 2500 = 1.6544 times less data."
   ]
  }
 ],
 "metadata": {
  "kernelspec": {
   "display_name": "Python [conda env:active_learning] *",
   "language": "python",
   "name": "conda-env-active_learning-py"
  },
  "language_info": {
   "codemirror_mode": {
    "name": "ipython",
    "version": 3
   },
   "file_extension": ".py",
   "mimetype": "text/x-python",
   "name": "python",
   "nbconvert_exporter": "python",
   "pygments_lexer": "ipython3",
   "version": "3.8.12"
  },
  "toc": {
   "base_numbering": 1,
   "nav_menu": {},
   "number_sections": true,
   "sideBar": true,
   "skip_h1_title": false,
   "title_cell": "Table of Contents",
   "title_sidebar": "Contents",
   "toc_cell": false,
   "toc_position": {},
   "toc_section_display": true,
   "toc_window_display": false
  },
  "varInspector": {
   "cols": {
    "lenName": 16,
    "lenType": 16,
    "lenVar": 40
   },
   "kernels_config": {
    "python": {
     "delete_cmd_postfix": "",
     "delete_cmd_prefix": "del ",
     "library": "var_list.py",
     "varRefreshCmd": "print(var_dic_list())"
    },
    "r": {
     "delete_cmd_postfix": ") ",
     "delete_cmd_prefix": "rm(",
     "library": "var_list.r",
     "varRefreshCmd": "cat(var_dic_list()) "
    }
   },
   "types_to_exclude": [
    "module",
    "function",
    "builtin_function_or_method",
    "instance",
    "_Feature"
   ],
   "window_display": false
  }
 },
 "nbformat": 4,
 "nbformat_minor": 5
}
